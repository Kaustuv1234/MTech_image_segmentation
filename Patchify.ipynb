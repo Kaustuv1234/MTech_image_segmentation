{
  "nbformat": 4,
  "nbformat_minor": 0,
  "metadata": {
    "colab": {
      "name": "Patchify.ipynb",
      "provenance": [],
      "mount_file_id": "1h_wEV-1sIVroJ4cfkxQ4knlujaQMZ7RD",
      "authorship_tag": "ABX9TyP6cdZ3QiNxUigqeg/Gbunt",
      "include_colab_link": true
    },
    "kernelspec": {
      "name": "python3",
      "display_name": "Python 3"
    },
    "language_info": {
      "name": "python"
    }
  },
  "cells": [
    {
      "cell_type": "markdown",
      "metadata": {
        "id": "view-in-github",
        "colab_type": "text"
      },
      "source": [
        "<a href=\"https://colab.research.google.com/github/Kaustuv1234/MTech_image_segmentation/blob/master/Patchify.ipynb\" target=\"_parent\"><img src=\"https://colab.research.google.com/assets/colab-badge.svg\" alt=\"Open In Colab\"/></a>"
      ]
    },
    {
      "cell_type": "code",
      "source": [
        "import matplotlib.pyplot as plt\n",
        "import urllib.request\n",
        "import matplotlib.patches as patches\n",
        "from PIL import Image\n",
        "import numpy as np\n",
        "import os"
      ],
      "metadata": {
        "id": "LFghg5Hqaa9q"
      },
      "execution_count": 77,
      "outputs": []
    },
    {
      "cell_type": "markdown",
      "source": [
        "# Download tif file"
      ],
      "metadata": {
        "id": "S8FjxfPt3F4a"
      }
    },
    {
      "cell_type": "code",
      "source": [
        "!gdown 1RUvIaepzRDT0cgxoc8egccyArTw4nu42"
      ],
      "metadata": {
        "colab": {
          "base_uri": "https://localhost:8080/"
        },
        "id": "sCPKrey5Pa_F",
        "outputId": "e031a642-cd1e-462b-c596-ef9a9d95348d"
      },
      "execution_count": 74,
      "outputs": [
        {
          "output_type": "stream",
          "name": "stdout",
          "text": [
            "Access denied with the following error:\n",
            "\n",
            " \tCannot retrieve the public link of the file. You may need to change\n",
            "\tthe permission to 'Anyone with the link', or have had many accesses. \n",
            "\n",
            "You may still be able to access the file from the browser:\n",
            "\n",
            "\t https://drive.google.com/uc?id=1RUvIaepzRDT0cgxoc8egccyArTw4nu42 \n",
            "\n"
          ]
        }
      ]
    },
    {
      "cell_type": "markdown",
      "source": [
        "# create folder to store patches"
      ],
      "metadata": {
        "id": "xpZn6xSW3UkE"
      }
    },
    {
      "cell_type": "code",
      "source": [
        "!mkdir saved_images"
      ],
      "metadata": {
        "id": "hRFiSs742JYz"
      },
      "execution_count": null,
      "outputs": []
    },
    {
      "cell_type": "markdown",
      "source": [
        "# Dividing the image with no overlap"
      ],
      "metadata": {
        "id": "U2rbMeXGgGko"
      }
    },
    {
      "cell_type": "code",
      "source": [
        "class Patchify:\n",
        "\n",
        "    def __init__(self, source, destination, imgcount=1):\n",
        "        self.source = source # scene tif file path\n",
        "        self.destination = destination # save folder path\n",
        "        self.imgcount = imgcount # starting image number\n",
        "        \n",
        "    def save_patch(self, x, y, h, w):\n",
        "        '''\n",
        "        save a patch as image file\n",
        "\n",
        "        arr: numpy array of the entire scene\n",
        "        x, y: starting indices of the patch\n",
        "        h, w: height and width of the patch\n",
        "        '''\n",
        "        ht, wt, c = self.arr.shape\n",
        "\n",
        "        if x > self.scene_height or x+h > self.scene_height or y > self.scene_width or y+w > self.scene_width:\n",
        "            print('error: indices out of bound-', x, x+h, y, y+w)\n",
        "            return\n",
        "\n",
        "        # print('arr_shape', arr.shape)\n",
        "        # print(f'patch{imgcount} [{x}:{h}, {y}:{w}]')\n",
        "        patch = Image.fromarray(self.arr[x:h+x, y:w+y, :])\n",
        "        # print(imgcount)\n",
        "        # display(patch)\n",
        "        patch.save('{}/{:012d}.png'.format(self.destination, self.imgcount))\n",
        "        self.imgcount += 1\n",
        "\n",
        "    def divide_into_patches(self, patch_size, ignore_end=True, overlap=True):\n",
        "        '''\n",
        "        divides the scene into patches\n",
        "\n",
        "        patch_size: height and width of patch\n",
        "        ignore_end: add patches at the end of images\n",
        "        overlap: add overlapping patches\n",
        "        '''\n",
        "        \n",
        "        p_row, p_col = (self.scene_height // patch_size), (self.scene_width // patch_size)\n",
        "        no_patches = p_col * p_row\n",
        "\n",
        "        if overlap:\n",
        "            no_patches += (p_col-1) * (p_row-1)\n",
        "\n",
        "        if not ignore_end:\n",
        "            no_patches += p_col + p_row + 1\n",
        "       \n",
        "\n",
        "\n",
        "        # fig, ax = plt.subplots()\n",
        "        # plt.rcParams[\"figure.figsize\"] = (80,40)\n",
        "        # ax.imshow(self.arr)\n",
        "        # plt.axis('off')\n",
        "\n",
        "        for x in range(p_col):\n",
        "            # rect = patches.Rectangle((x*patch_size, 0), patch_size, patch_size, linewidth=1, edgecolor='r', facecolor='none')\n",
        "            # ax.add_patch(rect)\n",
        "            self.save_patch(0, x*patch_size, patch_size, patch_size)\n",
        "\n",
        "        for y in range(1, p_row):\n",
        "            # rect = patches.Rectangle((0, y*patch_size), patch_size, patch_size, linewidth=1, edgecolor='r', facecolor='none')\n",
        "            # ax.add_patch(rect)\n",
        "            self.save_patch(y*patch_size, 0, patch_size, patch_size)\n",
        "\n",
        "        for x in range(1, p_col):\n",
        "            for y in range(1, p_row):\n",
        "                if overlap:\n",
        "                    # rect = patches.Rectangle((x*patch_size - patch_size//2, y*patch_size - patch_size//2), patch_size, patch_size, linewidth=1, edgecolor='r', facecolor='none')\n",
        "                    # ax.add_patch(rect)\n",
        "                    self.save_patch(y*patch_size - patch_size//2, x*patch_size - patch_size//2, patch_size, patch_size)\n",
        "                # rect = patches.Rectangle((x*patch_size, y*patch_size), patch_size, patch_size, linewidth=1, edgecolor='r', facecolor='none')\n",
        "                # ax.add_patch(rect)\n",
        "                self.save_patch(y*patch_size, x*patch_size, patch_size, patch_size)\n",
        "\n",
        "        if not ignore_end:\n",
        "            for x in range(p_row):\n",
        "                # rect = patches.Rectangle((self.scene_width - patch_size - 1, x*patch_size), patch_size, patch_size, linewidth=1, edgecolor='r', facecolor='none')\n",
        "                # ax.add_patch(rect)\n",
        "                self.save_patch( x*patch_size, self.scene_width - patch_size - 1, patch_size, patch_size)\n",
        "\n",
        "            for y in range(p_col):\n",
        "                # rect = patches.Rectangle((y*patch_size, self.scene_height - patch_size - 1), patch_size, patch_size, linewidth=1, edgecolor='r', facecolor='none')\n",
        "                # ax.add_patch(rect)\n",
        "                self.save_patch(self.scene_height - patch_size - 1, y*patch_size, patch_size, patch_size)\n",
        "\n",
        "            self.save_patch(self.scene_height - patch_size - 1, self.scene_width - patch_size - 1, patch_size, patch_size)\n",
        "\n",
        "        # plt.show()\n",
        "        return no_patches\n",
        "\n",
        "    def get_patches(self, patch_size, ignore_end=True, overlap=True):\n",
        "        img_list = os.listdir(self.source)\n",
        "        print(len(img_list), 'images found in src folder')\n",
        "        for img_name in img_list:\n",
        "            self.arr = np.array(Image.open(self.source + '/' + img_name))\n",
        "            self.scene_height, self.scene_width = self.arr.shape[0], self.arr.shape[1]\n",
        "            nop = self.divide_into_patches(patch_size, ignore_end, overlap)\n",
        "            print(img_name, '  size:',self.arr.shape,'  ',nop,'patches saved')"
      ],
      "metadata": {
        "id": "tRVQLNC6cSLF"
      },
      "execution_count": 94,
      "outputs": []
    },
    {
      "cell_type": "code",
      "source": [
        "src_path = '/content/drive/MyDrive/datasets/Vaihingen/images'\n",
        "save_path = '/content/saved_images'\n",
        "patch_size = 500\n",
        "start_img_no = 1\n",
        "\n",
        "patchify = Patchify(src_path, save_path, start_img_no)\n",
        "\n",
        "# patchify.get_patches(patch_size, ignore_end=True, overlap=True)\n",
        "patchify.get_patches(patch_size, ignore_end=False, overlap=True)\n",
        "# patchify.get_patches(patch_size, ignore_end=True, overlap=False)\n",
        "# patchify.get_patches(patch_size, ignore_end=False, overlap=False)"
      ],
      "metadata": {
        "id": "J_UGUPj3gauP",
        "colab": {
          "base_uri": "https://localhost:8080/",
          "height": 648
        },
        "outputId": "0175b887-76c3-46ca-ce61-af737970be87"
      },
      "execution_count": 95,
      "outputs": [
        {
          "output_type": "stream",
          "name": "stdout",
          "text": [
            "33 images found in sr folder\n",
            "000000000008.tif size: (1281, 2336, 3)    18 patches saved\n",
            "000000000009.tif size: (2569, 1919, 3)    32 patches saved\n",
            "000000000001.tif size: (2557, 1887, 3)    32 patches saved\n",
            "000000000019.tif size: (2767, 2428, 3)    42 patches saved\n",
            "000000000028.tif size: (3007, 2006, 3)    50 patches saved\n",
            "000000000029.tif size: (2557, 1887, 3)    32 patches saved\n",
            "000000000030.tif size: (2557, 1887, 3)    32 patches saved\n",
            "000000000031.tif size: (2557, 1887, 3)    32 patches saved\n",
            "000000000032.tif size: (2557, 1887, 3)    32 patches saved\n",
            "000000000033.tif size: (2557, 1887, 3)    32 patches saved\n"
          ]
        },
        {
          "output_type": "error",
          "ename": "KeyboardInterrupt",
          "evalue": "ignored",
          "traceback": [
            "\u001b[0;31m---------------------------------------------------------------------------\u001b[0m",
            "\u001b[0;31mAttributeError\u001b[0m                            Traceback (most recent call last)",
            "\u001b[0;32m/usr/local/lib/python3.7/dist-packages/PIL/ImageFile.py\u001b[0m in \u001b[0;36m_save\u001b[0;34m(im, fp, tile, bufsize)\u001b[0m\n\u001b[1;32m    495\u001b[0m     \u001b[0;32mtry\u001b[0m\u001b[0;34m:\u001b[0m\u001b[0;34m\u001b[0m\u001b[0;34m\u001b[0m\u001b[0m\n\u001b[0;32m--> 496\u001b[0;31m         \u001b[0mfh\u001b[0m \u001b[0;34m=\u001b[0m \u001b[0mfp\u001b[0m\u001b[0;34m.\u001b[0m\u001b[0mfileno\u001b[0m\u001b[0;34m(\u001b[0m\u001b[0;34m)\u001b[0m\u001b[0;34m\u001b[0m\u001b[0;34m\u001b[0m\u001b[0m\n\u001b[0m\u001b[1;32m    497\u001b[0m         \u001b[0mfp\u001b[0m\u001b[0;34m.\u001b[0m\u001b[0mflush\u001b[0m\u001b[0;34m(\u001b[0m\u001b[0;34m)\u001b[0m\u001b[0;34m\u001b[0m\u001b[0;34m\u001b[0m\u001b[0m\n",
            "\u001b[0;31mAttributeError\u001b[0m: '_idat' object has no attribute 'fileno'",
            "\nDuring handling of the above exception, another exception occurred:\n",
            "\u001b[0;31mKeyboardInterrupt\u001b[0m                         Traceback (most recent call last)",
            "\u001b[0;32m<ipython-input-95-7d80ac83d695>\u001b[0m in \u001b[0;36m<module>\u001b[0;34m()\u001b[0m\n\u001b[1;32m      7\u001b[0m \u001b[0;34m\u001b[0m\u001b[0m\n\u001b[1;32m      8\u001b[0m \u001b[0;31m# patchify.get_patches(patch_size, ignore_end=True, overlap=True)\u001b[0m\u001b[0;34m\u001b[0m\u001b[0;34m\u001b[0m\u001b[0;34m\u001b[0m\u001b[0m\n\u001b[0;32m----> 9\u001b[0;31m \u001b[0mpatchify\u001b[0m\u001b[0;34m.\u001b[0m\u001b[0mget_patches\u001b[0m\u001b[0;34m(\u001b[0m\u001b[0mpatch_size\u001b[0m\u001b[0;34m,\u001b[0m \u001b[0mignore_end\u001b[0m\u001b[0;34m=\u001b[0m\u001b[0;32mFalse\u001b[0m\u001b[0;34m,\u001b[0m \u001b[0moverlap\u001b[0m\u001b[0;34m=\u001b[0m\u001b[0;32mTrue\u001b[0m\u001b[0;34m)\u001b[0m\u001b[0;34m\u001b[0m\u001b[0;34m\u001b[0m\u001b[0m\n\u001b[0m\u001b[1;32m     10\u001b[0m \u001b[0;31m# patchify.get_patches(patch_size, ignore_end=True, overlap=False)\u001b[0m\u001b[0;34m\u001b[0m\u001b[0;34m\u001b[0m\u001b[0;34m\u001b[0m\u001b[0m\n\u001b[1;32m     11\u001b[0m \u001b[0;31m# patchify.get_patches(patch_size, ignore_end=False, overlap=False)\u001b[0m\u001b[0;34m\u001b[0m\u001b[0;34m\u001b[0m\u001b[0;34m\u001b[0m\u001b[0m\n",
            "\u001b[0;32m<ipython-input-94-a87bff4102b7>\u001b[0m in \u001b[0;36mget_patches\u001b[0;34m(self, patch_size, ignore_end, overlap)\u001b[0m\n\u001b[1;32m     95\u001b[0m             \u001b[0mself\u001b[0m\u001b[0;34m.\u001b[0m\u001b[0marr\u001b[0m \u001b[0;34m=\u001b[0m \u001b[0mnp\u001b[0m\u001b[0;34m.\u001b[0m\u001b[0marray\u001b[0m\u001b[0;34m(\u001b[0m\u001b[0mImage\u001b[0m\u001b[0;34m.\u001b[0m\u001b[0mopen\u001b[0m\u001b[0;34m(\u001b[0m\u001b[0mself\u001b[0m\u001b[0;34m.\u001b[0m\u001b[0msource\u001b[0m \u001b[0;34m+\u001b[0m \u001b[0;34m'/'\u001b[0m \u001b[0;34m+\u001b[0m \u001b[0mimg_name\u001b[0m\u001b[0;34m)\u001b[0m\u001b[0;34m)\u001b[0m\u001b[0;34m\u001b[0m\u001b[0;34m\u001b[0m\u001b[0m\n\u001b[1;32m     96\u001b[0m             \u001b[0mself\u001b[0m\u001b[0;34m.\u001b[0m\u001b[0mscene_height\u001b[0m\u001b[0;34m,\u001b[0m \u001b[0mself\u001b[0m\u001b[0;34m.\u001b[0m\u001b[0mscene_width\u001b[0m \u001b[0;34m=\u001b[0m \u001b[0mself\u001b[0m\u001b[0;34m.\u001b[0m\u001b[0marr\u001b[0m\u001b[0;34m.\u001b[0m\u001b[0mshape\u001b[0m\u001b[0;34m[\u001b[0m\u001b[0;36m0\u001b[0m\u001b[0;34m]\u001b[0m\u001b[0;34m,\u001b[0m \u001b[0mself\u001b[0m\u001b[0;34m.\u001b[0m\u001b[0marr\u001b[0m\u001b[0;34m.\u001b[0m\u001b[0mshape\u001b[0m\u001b[0;34m[\u001b[0m\u001b[0;36m1\u001b[0m\u001b[0;34m]\u001b[0m\u001b[0;34m\u001b[0m\u001b[0;34m\u001b[0m\u001b[0m\n\u001b[0;32m---> 97\u001b[0;31m             \u001b[0mnop\u001b[0m \u001b[0;34m=\u001b[0m \u001b[0mself\u001b[0m\u001b[0;34m.\u001b[0m\u001b[0mdivide_into_patches\u001b[0m\u001b[0;34m(\u001b[0m\u001b[0mpatch_size\u001b[0m\u001b[0;34m,\u001b[0m \u001b[0mignore_end\u001b[0m\u001b[0;34m,\u001b[0m \u001b[0moverlap\u001b[0m\u001b[0;34m)\u001b[0m\u001b[0;34m\u001b[0m\u001b[0;34m\u001b[0m\u001b[0m\n\u001b[0m\u001b[1;32m     98\u001b[0m             \u001b[0mprint\u001b[0m\u001b[0;34m(\u001b[0m\u001b[0mimg_name\u001b[0m\u001b[0;34m,\u001b[0m \u001b[0;34m'size:'\u001b[0m\u001b[0;34m,\u001b[0m\u001b[0mself\u001b[0m\u001b[0;34m.\u001b[0m\u001b[0marr\u001b[0m\u001b[0;34m.\u001b[0m\u001b[0mshape\u001b[0m\u001b[0;34m,\u001b[0m\u001b[0;34m'  '\u001b[0m\u001b[0;34m,\u001b[0m\u001b[0mnop\u001b[0m\u001b[0;34m,\u001b[0m\u001b[0;34m'patches saved'\u001b[0m\u001b[0;34m)\u001b[0m\u001b[0;34m\u001b[0m\u001b[0;34m\u001b[0m\u001b[0m\n",
            "\u001b[0;32m<ipython-input-94-a87bff4102b7>\u001b[0m in \u001b[0;36mdivide_into_patches\u001b[0;34m(self, patch_size, ignore_end, overlap)\u001b[0m\n\u001b[1;32m     68\u001b[0m                     \u001b[0;31m# rect = patches.Rectangle((x*patch_size - patch_size//2, y*patch_size - patch_size//2), patch_size, patch_size, linewidth=1, edgecolor='r', facecolor='none')\u001b[0m\u001b[0;34m\u001b[0m\u001b[0;34m\u001b[0m\u001b[0;34m\u001b[0m\u001b[0m\n\u001b[1;32m     69\u001b[0m                     \u001b[0;31m# ax.add_patch(rect)\u001b[0m\u001b[0;34m\u001b[0m\u001b[0;34m\u001b[0m\u001b[0;34m\u001b[0m\u001b[0m\n\u001b[0;32m---> 70\u001b[0;31m                     \u001b[0mself\u001b[0m\u001b[0;34m.\u001b[0m\u001b[0msave_patch\u001b[0m\u001b[0;34m(\u001b[0m\u001b[0my\u001b[0m\u001b[0;34m*\u001b[0m\u001b[0mpatch_size\u001b[0m \u001b[0;34m-\u001b[0m \u001b[0mpatch_size\u001b[0m\u001b[0;34m//\u001b[0m\u001b[0;36m2\u001b[0m\u001b[0;34m,\u001b[0m \u001b[0mx\u001b[0m\u001b[0;34m*\u001b[0m\u001b[0mpatch_size\u001b[0m \u001b[0;34m-\u001b[0m \u001b[0mpatch_size\u001b[0m\u001b[0;34m//\u001b[0m\u001b[0;36m2\u001b[0m\u001b[0;34m,\u001b[0m \u001b[0mpatch_size\u001b[0m\u001b[0;34m,\u001b[0m \u001b[0mpatch_size\u001b[0m\u001b[0;34m)\u001b[0m\u001b[0;34m\u001b[0m\u001b[0;34m\u001b[0m\u001b[0m\n\u001b[0m\u001b[1;32m     71\u001b[0m                 \u001b[0;31m# rect = patches.Rectangle((x*patch_size, y*patch_size), patch_size, patch_size, linewidth=1, edgecolor='r', facecolor='none')\u001b[0m\u001b[0;34m\u001b[0m\u001b[0;34m\u001b[0m\u001b[0;34m\u001b[0m\u001b[0m\n\u001b[1;32m     72\u001b[0m                 \u001b[0;31m# ax.add_patch(rect)\u001b[0m\u001b[0;34m\u001b[0m\u001b[0;34m\u001b[0m\u001b[0;34m\u001b[0m\u001b[0m\n",
            "\u001b[0;32m<ipython-input-94-a87bff4102b7>\u001b[0m in \u001b[0;36msave_patch\u001b[0;34m(self, x, y, h, w)\u001b[0m\n\u001b[1;32m     25\u001b[0m         \u001b[0;31m# print(imgcount)\u001b[0m\u001b[0;34m\u001b[0m\u001b[0;34m\u001b[0m\u001b[0;34m\u001b[0m\u001b[0m\n\u001b[1;32m     26\u001b[0m         \u001b[0;31m# display(patch)\u001b[0m\u001b[0;34m\u001b[0m\u001b[0;34m\u001b[0m\u001b[0;34m\u001b[0m\u001b[0m\n\u001b[0;32m---> 27\u001b[0;31m         \u001b[0mpatch\u001b[0m\u001b[0;34m.\u001b[0m\u001b[0msave\u001b[0m\u001b[0;34m(\u001b[0m\u001b[0;34m'{}/{:012d}.png'\u001b[0m\u001b[0;34m.\u001b[0m\u001b[0mformat\u001b[0m\u001b[0;34m(\u001b[0m\u001b[0mself\u001b[0m\u001b[0;34m.\u001b[0m\u001b[0mdestination\u001b[0m\u001b[0;34m,\u001b[0m \u001b[0mself\u001b[0m\u001b[0;34m.\u001b[0m\u001b[0mimgcount\u001b[0m\u001b[0;34m)\u001b[0m\u001b[0;34m)\u001b[0m\u001b[0;34m\u001b[0m\u001b[0;34m\u001b[0m\u001b[0m\n\u001b[0m\u001b[1;32m     28\u001b[0m         \u001b[0mself\u001b[0m\u001b[0;34m.\u001b[0m\u001b[0mimgcount\u001b[0m \u001b[0;34m+=\u001b[0m \u001b[0;36m1\u001b[0m\u001b[0;34m\u001b[0m\u001b[0;34m\u001b[0m\u001b[0m\n\u001b[1;32m     29\u001b[0m \u001b[0;34m\u001b[0m\u001b[0m\n",
            "\u001b[0;32m/usr/local/lib/python3.7/dist-packages/PIL/Image.py\u001b[0m in \u001b[0;36msave\u001b[0;34m(self, fp, format, **params)\u001b[0m\n\u001b[1;32m   2132\u001b[0m \u001b[0;34m\u001b[0m\u001b[0m\n\u001b[1;32m   2133\u001b[0m         \u001b[0;32mtry\u001b[0m\u001b[0;34m:\u001b[0m\u001b[0;34m\u001b[0m\u001b[0;34m\u001b[0m\u001b[0m\n\u001b[0;32m-> 2134\u001b[0;31m             \u001b[0msave_handler\u001b[0m\u001b[0;34m(\u001b[0m\u001b[0mself\u001b[0m\u001b[0;34m,\u001b[0m \u001b[0mfp\u001b[0m\u001b[0;34m,\u001b[0m \u001b[0mfilename\u001b[0m\u001b[0;34m)\u001b[0m\u001b[0;34m\u001b[0m\u001b[0;34m\u001b[0m\u001b[0m\n\u001b[0m\u001b[1;32m   2135\u001b[0m         \u001b[0;32mfinally\u001b[0m\u001b[0;34m:\u001b[0m\u001b[0;34m\u001b[0m\u001b[0;34m\u001b[0m\u001b[0m\n\u001b[1;32m   2136\u001b[0m             \u001b[0;31m# do what we can to clean up\u001b[0m\u001b[0;34m\u001b[0m\u001b[0;34m\u001b[0m\u001b[0;34m\u001b[0m\u001b[0m\n",
            "\u001b[0;32m/usr/local/lib/python3.7/dist-packages/PIL/PngImagePlugin.py\u001b[0m in \u001b[0;36m_save\u001b[0;34m(im, fp, filename, chunk, save_all)\u001b[0m\n\u001b[1;32m   1289\u001b[0m         \u001b[0m_write_multiple_frames\u001b[0m\u001b[0;34m(\u001b[0m\u001b[0mim\u001b[0m\u001b[0;34m,\u001b[0m \u001b[0mfp\u001b[0m\u001b[0;34m,\u001b[0m \u001b[0mchunk\u001b[0m\u001b[0;34m,\u001b[0m \u001b[0mrawmode\u001b[0m\u001b[0;34m)\u001b[0m\u001b[0;34m\u001b[0m\u001b[0;34m\u001b[0m\u001b[0m\n\u001b[1;32m   1290\u001b[0m     \u001b[0;32melse\u001b[0m\u001b[0;34m:\u001b[0m\u001b[0;34m\u001b[0m\u001b[0;34m\u001b[0m\u001b[0m\n\u001b[0;32m-> 1291\u001b[0;31m         \u001b[0mImageFile\u001b[0m\u001b[0;34m.\u001b[0m\u001b[0m_save\u001b[0m\u001b[0;34m(\u001b[0m\u001b[0mim\u001b[0m\u001b[0;34m,\u001b[0m \u001b[0m_idat\u001b[0m\u001b[0;34m(\u001b[0m\u001b[0mfp\u001b[0m\u001b[0;34m,\u001b[0m \u001b[0mchunk\u001b[0m\u001b[0;34m)\u001b[0m\u001b[0;34m,\u001b[0m \u001b[0;34m[\u001b[0m\u001b[0;34m(\u001b[0m\u001b[0;34m\"zip\"\u001b[0m\u001b[0;34m,\u001b[0m \u001b[0;34m(\u001b[0m\u001b[0;36m0\u001b[0m\u001b[0;34m,\u001b[0m \u001b[0;36m0\u001b[0m\u001b[0;34m)\u001b[0m \u001b[0;34m+\u001b[0m \u001b[0mim\u001b[0m\u001b[0;34m.\u001b[0m\u001b[0msize\u001b[0m\u001b[0;34m,\u001b[0m \u001b[0;36m0\u001b[0m\u001b[0;34m,\u001b[0m \u001b[0mrawmode\u001b[0m\u001b[0;34m)\u001b[0m\u001b[0;34m]\u001b[0m\u001b[0;34m)\u001b[0m\u001b[0;34m\u001b[0m\u001b[0;34m\u001b[0m\u001b[0m\n\u001b[0m\u001b[1;32m   1292\u001b[0m \u001b[0;34m\u001b[0m\u001b[0m\n\u001b[1;32m   1293\u001b[0m     \u001b[0mchunk\u001b[0m\u001b[0;34m(\u001b[0m\u001b[0mfp\u001b[0m\u001b[0;34m,\u001b[0m \u001b[0;34mb\"IEND\"\u001b[0m\u001b[0;34m,\u001b[0m \u001b[0;34mb\"\"\u001b[0m\u001b[0;34m)\u001b[0m\u001b[0;34m\u001b[0m\u001b[0;34m\u001b[0m\u001b[0m\n",
            "\u001b[0;32m/usr/local/lib/python3.7/dist-packages/PIL/ImageFile.py\u001b[0m in \u001b[0;36m_save\u001b[0;34m(im, fp, tile, bufsize)\u001b[0m\n\u001b[1;32m    508\u001b[0m             \u001b[0;32melse\u001b[0m\u001b[0;34m:\u001b[0m\u001b[0;34m\u001b[0m\u001b[0;34m\u001b[0m\u001b[0m\n\u001b[1;32m    509\u001b[0m                 \u001b[0;32mwhile\u001b[0m \u001b[0;32mTrue\u001b[0m\u001b[0;34m:\u001b[0m\u001b[0;34m\u001b[0m\u001b[0;34m\u001b[0m\u001b[0m\n\u001b[0;32m--> 510\u001b[0;31m                     \u001b[0ml\u001b[0m\u001b[0;34m,\u001b[0m \u001b[0ms\u001b[0m\u001b[0;34m,\u001b[0m \u001b[0md\u001b[0m \u001b[0;34m=\u001b[0m \u001b[0me\u001b[0m\u001b[0;34m.\u001b[0m\u001b[0mencode\u001b[0m\u001b[0;34m(\u001b[0m\u001b[0mbufsize\u001b[0m\u001b[0;34m)\u001b[0m\u001b[0;34m\u001b[0m\u001b[0;34m\u001b[0m\u001b[0m\n\u001b[0m\u001b[1;32m    511\u001b[0m                     \u001b[0mfp\u001b[0m\u001b[0;34m.\u001b[0m\u001b[0mwrite\u001b[0m\u001b[0;34m(\u001b[0m\u001b[0md\u001b[0m\u001b[0;34m)\u001b[0m\u001b[0;34m\u001b[0m\u001b[0;34m\u001b[0m\u001b[0m\n\u001b[1;32m    512\u001b[0m                     \u001b[0;32mif\u001b[0m \u001b[0ms\u001b[0m\u001b[0;34m:\u001b[0m\u001b[0;34m\u001b[0m\u001b[0;34m\u001b[0m\u001b[0m\n",
            "\u001b[0;31mKeyboardInterrupt\u001b[0m: "
          ]
        }
      ]
    },
    {
      "cell_type": "code",
      "source": [
        "!cp -r /content/saved_images /content/drive/MyDrive/sem6"
      ],
      "metadata": {
        "id": "Vg17eBJ9dMQ5"
      },
      "execution_count": 73,
      "outputs": []
    },
    {
      "cell_type": "code",
      "source": [
        "!rm saved_images/*"
      ],
      "metadata": {
        "id": "3uDcaNaL2qcE"
      },
      "execution_count": 70,
      "outputs": []
    },
    {
      "cell_type": "code",
      "source": [
        ""
      ],
      "metadata": {
        "id": "kzDE5eNs83iL"
      },
      "execution_count": null,
      "outputs": []
    }
  ]
}